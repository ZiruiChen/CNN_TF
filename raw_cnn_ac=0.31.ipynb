{
 "cells": [
  {
   "cell_type": "code",
   "execution_count": 1,
   "metadata": {},
   "outputs": [],
   "source": [
    "import os\n",
    "from PIL import Image\n",
    "import tensorflow as tf\n",
    "import tensorflow.contrib.slim.nets as nets"
   ]
  },
  {
   "cell_type": "code",
   "execution_count": 2,
   "metadata": {},
   "outputs": [
    {
     "name": "stdout",
     "output_type": "stream",
     "text": [
      "F:\\CZR\\ANU courses\\2019 S1\\ENGN4528\\project\\tensorflow_cnn\\breed of 6 train and test\n"
     ]
    }
   ],
   "source": [
    "cd F:\\CZR\\ANU courses\\2019 S1\\ENGN4528\\project\\tensorflow_cnn\\breed of 6 train and test"
   ]
  },
  {
   "cell_type": "code",
   "execution_count": 3,
   "metadata": {},
   "outputs": [],
   "source": [
    "os.environ[\"CUDA_VISIBLE_DEVICES\"] = \"0\""
   ]
  },
  {
   "cell_type": "code",
   "execution_count": 4,
   "metadata": {},
   "outputs": [],
   "source": [
    "config = tf.ConfigProto()\n",
    "config.gpu_options.allow_growth = True"
   ]
  },
  {
   "cell_type": "code",
   "execution_count": 7,
   "metadata": {},
   "outputs": [
    {
     "name": "stdout",
     "output_type": "stream",
     "text": [
      "['0', '1', '2', '3', '4', '5']\n"
     ]
    }
   ],
   "source": [
    "# 图片路径，两组标签都在该目录下\n",
    "cwd = r\".\\train\"\n",
    " \n",
    "# tfrecord文件保存路径\n",
    "file_path = r\"./\"\n",
    "\n",
    "\n",
    "\n",
    "# 每个tfrecord存放图片个数\n",
    "bestnum = 1200\n",
    " \n",
    "# 第几个图片\n",
    "num = 0\n",
    " \n",
    "# 第几个TFRecord文件\n",
    "recordfilenum = 0\n",
    " \n",
    "# 将labels放入到classes中\n",
    "classes = [str(i) for i in range(6)]\n",
    "print(classes)\n",
    "\n",
    "# tfrecords格式文件名\n",
    "ftrecordfilename = (\"traindata_cat&dog_6breed.tfrecords-%.3d\" % recordfilenum)\n",
    "writer = tf.python_io.TFRecordWriter(os.path.join(file_path, ftrecordfilename))"
   ]
  },
  {
   "cell_type": "code",
   "execution_count": 8,
   "metadata": {},
   "outputs": [],
   "source": [
    "for index, name in enumerate(classes):\n",
    "    \n",
    "    class_path = os.path.join(cwd, name)\n",
    "    for img_name in os.listdir(class_path):\n",
    "        num = num + 1\n",
    "        if num > bestnum:    #超过100，写入下一个tfrecord\n",
    "            num = 1\n",
    "            recordfilenum += 1\n",
    "            ftrecordfilename = (\"traindata_cat&dog_6breed.tfrecords-%.3d\" % recordfilenum)\n",
    "            writer = tf.python_io.TFRecordWriter(os.path.join(file_path, ftrecordfilename))\n",
    "        \n",
    "        img_path = os.path.join(class_path, img_name)  # 每一个图片的地址\n",
    "        img = Image.open(img_path, 'r')\n",
    "        img_raw = img.tobytes()  # 将图片转化为二进制格式\n",
    "        example = tf.train.Example(\n",
    "            features=tf.train.Features(feature={\n",
    "                'label': tf.train.Feature(int64_list=tf.train.Int64List(value=[index])),\n",
    "                'img_raw': tf.train.Feature(bytes_list=tf.train.BytesList(value=[img_raw])),\n",
    "            }))        \n",
    "        writer.write(example.SerializeToString())  # 序列化为字符串\n",
    "writer.close()"
   ]
  },
  {
   "cell_type": "code",
   "execution_count": 3,
   "metadata": {},
   "outputs": [],
   "source": [
    "def read_and_decode_tfrecord(filename):\n",
    "    filename_deque = tf.train.string_input_producer(filename)\n",
    "    reader = tf.TFRecordReader()\n",
    "    _, serialized_example = reader.read(filename_deque)\n",
    "    features = tf.parse_single_example(serialized_example, features={\n",
    "        'label': tf.FixedLenFeature([], tf.int64),\n",
    "        'img_raw': tf.FixedLenFeature([], tf.string)})\n",
    "    label = tf.cast(features['label'], tf.int32)\n",
    "    img = tf.decode_raw(features['img_raw'], tf.uint8)\n",
    "    img = tf.reshape(img, [224, 224, 3])\n",
    "    img = tf.subtract(tf.cast(img, tf.float32), tf.constant([122, 114, 101],tf.float32)) \n",
    "    img = tf.cast(img, tf.float32) / 255.0      #将矩阵归一化0-1之间\n",
    "    return img, label"
   ]
  },
  {
   "cell_type": "code",
   "execution_count": 5,
   "metadata": {},
   "outputs": [
    {
     "data": {
      "text/plain": [
       "['test', 'train', 'traindata_cat&dog_6breed.tfrecords-000']"
      ]
     },
     "execution_count": 5,
     "metadata": {},
     "output_type": "execute_result"
    }
   ],
   "source": [
    "os.listdir()"
   ]
  },
  {
   "cell_type": "code",
   "execution_count": 4,
   "metadata": {},
   "outputs": [],
   "source": [
    "train_list = ['traindata_cat&dog_6breed.tfrecords-000']"
   ]
  },
  {
   "cell_type": "code",
   "execution_count": 12,
   "metadata": {},
   "outputs": [],
   "source": [
    "from __future__ import division, print_function, absolute_import"
   ]
  },
  {
   "cell_type": "code",
   "execution_count": 5,
   "metadata": {},
   "outputs": [],
   "source": [
    "# Training Parameters\n",
    "learning_rate = 0.001\n",
    "num_steps = 1\n",
    "batch_size = 10\n",
    "display_step = 10\n",
    "\n",
    "# Network Parameters\n",
    "num_input = 50176 \n",
    "num_classes = 6\n",
    "dropout = 0.75 \n",
    "\n",
    "# tf Graph input\n",
    "X = tf.placeholder(tf.float32, [None, 224, 224, 3])\n",
    "Y = tf.placeholder(tf.float32, [None])\n",
    "y_ = tf.placeholder(tf.float32, [None,num_classes])\n",
    "keep_prob = tf.placeholder(tf.float32) # dropout (keep probability)"
   ]
  },
  {
   "cell_type": "code",
   "execution_count": 6,
   "metadata": {},
   "outputs": [
    {
     "name": "stdout",
     "output_type": "stream",
     "text": [
      "WARNING:tensorflow:From <ipython-input-3-3f6dbdbbe057>:2: string_input_producer (from tensorflow.python.training.input) is deprecated and will be removed in a future version.\n",
      "Instructions for updating:\n",
      "Queue-based input pipelines have been replaced by `tf.data`. Use `tf.data.Dataset.from_tensor_slices(string_tensor).shuffle(tf.shape(input_tensor, out_type=tf.int64)[0]).repeat(num_epochs)`. If `shuffle=False`, omit the `.shuffle(...)`.\n",
      "WARNING:tensorflow:From C:\\ProgramData\\Anaconda3\\lib\\site-packages\\tensorflow\\python\\training\\input.py:278: input_producer (from tensorflow.python.training.input) is deprecated and will be removed in a future version.\n",
      "Instructions for updating:\n",
      "Queue-based input pipelines have been replaced by `tf.data`. Use `tf.data.Dataset.from_tensor_slices(input_tensor).shuffle(tf.shape(input_tensor, out_type=tf.int64)[0]).repeat(num_epochs)`. If `shuffle=False`, omit the `.shuffle(...)`.\n",
      "WARNING:tensorflow:From C:\\ProgramData\\Anaconda3\\lib\\site-packages\\tensorflow\\python\\training\\input.py:190: limit_epochs (from tensorflow.python.training.input) is deprecated and will be removed in a future version.\n",
      "Instructions for updating:\n",
      "Queue-based input pipelines have been replaced by `tf.data`. Use `tf.data.Dataset.from_tensors(tensor).repeat(num_epochs)`.\n",
      "WARNING:tensorflow:From C:\\ProgramData\\Anaconda3\\lib\\site-packages\\tensorflow\\python\\training\\input.py:199: QueueRunner.__init__ (from tensorflow.python.training.queue_runner_impl) is deprecated and will be removed in a future version.\n",
      "Instructions for updating:\n",
      "To construct input pipelines, use the `tf.data` module.\n",
      "WARNING:tensorflow:From C:\\ProgramData\\Anaconda3\\lib\\site-packages\\tensorflow\\python\\training\\input.py:199: add_queue_runner (from tensorflow.python.training.queue_runner_impl) is deprecated and will be removed in a future version.\n",
      "Instructions for updating:\n",
      "To construct input pipelines, use the `tf.data` module.\n",
      "WARNING:tensorflow:From C:\\ProgramData\\Anaconda3\\lib\\site-packages\\tensorflow\\python\\training\\input.py:202: to_float (from tensorflow.python.ops.math_ops) is deprecated and will be removed in a future version.\n",
      "Instructions for updating:\n",
      "Use tf.cast instead.\n",
      "WARNING:tensorflow:From <ipython-input-3-3f6dbdbbe057>:3: TFRecordReader.__init__ (from tensorflow.python.ops.io_ops) is deprecated and will be removed in a future version.\n",
      "Instructions for updating:\n",
      "Queue-based input pipelines have been replaced by `tf.data`. Use `tf.data.TFRecordDataset`.\n",
      "WARNING:tensorflow:From <ipython-input-6-1401903957a1>:2: shuffle_batch (from tensorflow.python.training.input) is deprecated and will be removed in a future version.\n",
      "Instructions for updating:\n",
      "Queue-based input pipelines have been replaced by `tf.data`. Use `tf.data.Dataset.shuffle(min_after_dequeue).batch(batch_size)`.\n"
     ]
    }
   ],
   "source": [
    "img, label = read_and_decode_tfrecord(train_list)\n",
    "img_batch, label_batch = tf.train.shuffle_batch([img, label], num_threads=32, batch_size=batch_size, capacity=10000,min_after_dequeue=9900)"
   ]
  },
  {
   "cell_type": "code",
   "execution_count": 7,
   "metadata": {},
   "outputs": [],
   "source": [
    "# 将label值进行onehot编码\n",
    "one_hot_labels = tf.one_hot(indices=tf.cast(Y, tf.int32), depth=6)"
   ]
  },
  {
   "cell_type": "code",
   "execution_count": 8,
   "metadata": {},
   "outputs": [],
   "source": [
    "# Create some wrappers for simplicity\n",
    "def conv2d(x, W, b, strides=1):\n",
    "    # Conv2D wrapper, with bias and relu activation\n",
    "    x = tf.nn.conv2d(x, W, strides=[1, strides, strides, 1], padding='SAME')\n",
    "    x = tf.nn.bias_add(x, b)\n",
    "    return tf.nn.relu(x)\n",
    "\n",
    "\n",
    "def maxpool2d(x, k=2):\n",
    "    # MaxPool2D wrapper\n",
    "    return tf.nn.max_pool(x, ksize=[1, k, k, 1], strides=[1, k, k, 1],\n",
    "                          padding='SAME')\n",
    "\n",
    "\n",
    "# Create model\n",
    "def conv_net(x, weights, biases, dropout):\n",
    "    # MNIST data input is a 1-D vector of 784 features (28*28 pixels)\n",
    "    # Reshape to match picture format [Height x Width x Channel]\n",
    "    # Tensor input become 4-D: [Batch Size, Height, Width, Channel]\n",
    "    x = tf.reshape(x, shape=[-1, 224, 224, 3])\n",
    "\n",
    "    # Convolution Layer\n",
    "    conv1 = conv2d(x, weights['wc1'], biases['bc1'])\n",
    "    # Max Pooling (down-sampling)\n",
    "    conv1 = maxpool2d(conv1, k=2)\n",
    "\n",
    "    # Convolution Layer\n",
    "    conv2 = conv2d(conv1, weights['wc2'], biases['bc2'])\n",
    "    # Max Pooling (down-sampling)\n",
    "    conv2 = maxpool2d(conv2, k=2)\n",
    "    \n",
    "    # Convolution Layer\n",
    "    conv3 = conv2d(conv2, weights['wc3'], biases['bc3'])\n",
    "    # Max Pooling (down-sampling)\n",
    "    conv3 = maxpool2d(conv3, k=2)\n",
    "    \n",
    "    # Convolution Layer\n",
    "    conv4 = conv2d(conv3, weights['wc4'], biases['bc4'])\n",
    "    # Max Pooling (down-sampling)\n",
    "    conv4 = maxpool2d(conv4, k=2)\n",
    "    \n",
    "    # Convolution Layer\n",
    "    conv5 = conv2d(conv4, weights['wc5'], biases['bc5'])\n",
    "    # Max Pooling (down-sampling)\n",
    "    conv5 = maxpool2d(conv5, k=2)\n",
    "    \n",
    "    # Convolution Layer\n",
    "    #conv6 = conv2d(conv5, weights['wc6'], biases['bc6'])\n",
    "    # Max Pooling (down-sampling)\n",
    "    #conv6 = maxpool2d(conv6, k=2)\n",
    "\n",
    "    # Fully connected layer\n",
    "    # Reshape conv2 output to fit fully connected layer input\n",
    "    fc1 = tf.reshape(conv5, [-1, weights['wd1'].get_shape().as_list()[0]])\n",
    "    fc1 = tf.add(tf.matmul(fc1, weights['wd1']), biases['bd1'])\n",
    "    fc1 = tf.nn.relu(fc1)    \n",
    "    # Apply Dropout\n",
    "    fc1 = tf.nn.dropout(fc1, dropout)\n",
    "#     fc2 = tf.add(tf.matmul(fc1, weights['wd2']), biases['bd2'])\n",
    "#     fc2 = tf.nn.relu(fc2)\n",
    "#     fc2 = tf.nn.dropout(fc2, dropout)\n",
    "    # Output, class prediction\n",
    "    out = tf.add(tf.matmul(fc1, weights['out']), biases['out'])\n",
    "    return out"
   ]
  },
  {
   "cell_type": "code",
   "execution_count": 9,
   "metadata": {},
   "outputs": [
    {
     "name": "stdout",
     "output_type": "stream",
     "text": [
      "WARNING:tensorflow:From C:\\ProgramData\\Anaconda3\\lib\\site-packages\\tensorflow\\python\\framework\\op_def_library.py:263: colocate_with (from tensorflow.python.framework.ops) is deprecated and will be removed in a future version.\n",
      "Instructions for updating:\n",
      "Colocations handled automatically by placer.\n",
      "WARNING:tensorflow:From <ipython-input-8-a672822942e6>:58: calling dropout (from tensorflow.python.ops.nn_ops) with keep_prob is deprecated and will be removed in a future version.\n",
      "Instructions for updating:\n",
      "Please use `rate` instead of `keep_prob`. Rate should be set to `rate = 1 - keep_prob`.\n",
      "WARNING:tensorflow:From <ipython-input-9-1bc847bdaf3b>:42: softmax_cross_entropy_with_logits (from tensorflow.python.ops.nn_ops) is deprecated and will be removed in a future version.\n",
      "Instructions for updating:\n",
      "\n",
      "Future major versions of TensorFlow will allow gradients to flow\n",
      "into the labels input on backprop by default.\n",
      "\n",
      "See `tf.nn.softmax_cross_entropy_with_logits_v2`.\n",
      "\n"
     ]
    }
   ],
   "source": [
    "# Store layers weight & bias\n",
    "weights = {\n",
    "    # 5x5 conv, 1 input, 32 outputs\n",
    "    'wc1': tf.Variable(tf.random_normal([3, 3, 3, 16])),\n",
    "    # 5x5 conv, 32 inputs, 64 outputs\n",
    "    'wc2': tf.Variable(tf.random_normal([3, 3, 16, 32])),\n",
    "    # 5x5 conv, 64 inputs, 128 outputs\n",
    "    'wc3': tf.Variable(tf.random_normal([3, 3, 32, 64])),\n",
    "    # 5x5 conv, 128 inputs, 256 outputs\n",
    "    'wc4': tf.Variable(tf.random_normal([3, 3, 64, 128])),\n",
    "    # 5x5 conv, 128 inputs, 256 outputs\n",
    "    'wc5': tf.Variable(tf.random_normal([3, 3, 128, 256])),\n",
    "     # 5x5 conv, 128 inputs, 256 outputs\n",
    "    'wc6': tf.Variable(tf.random_normal([3, 3, 128, 128])),\n",
    "    # fully connected, 14*14*256 inputs, 8000 outputs\n",
    "    'wd1': tf.Variable(tf.random_normal([7*7*256, 1024])),\n",
    "    # fully connected, 8000 inputs, 1024 outputs\n",
    "    'wd2': tf.Variable(tf.random_normal([4056, 512])),\n",
    "    # 1024 inputs, 10 outputs (class prediction)\n",
    "    'out': tf.Variable(tf.random_normal([1024, num_classes]))\n",
    "}\n",
    "\n",
    "biases = {\n",
    "    'bc1': tf.Variable(tf.random_normal([16])),\n",
    "    'bc2': tf.Variable(tf.random_normal([32])),\n",
    "    'bc3': tf.Variable(tf.random_normal([64])),\n",
    "    'bc4': tf.Variable(tf.random_normal([128])),\n",
    "    'bc5': tf.Variable(tf.random_normal([256])),\n",
    "    'bc6': tf.Variable(tf.random_normal([128])),\n",
    "    'bd1': tf.Variable(tf.random_normal([1024])),\n",
    "    'bd2': tf.Variable(tf.random_normal([512])),\n",
    "    'out': tf.Variable(tf.random_normal([num_classes]))\n",
    "}\n",
    "\n",
    "# Construct model\n",
    "logits = conv_net(X, weights, biases, keep_prob)\n",
    "prediction = tf.nn.softmax(logits)\n",
    "tf.add_to_collection('network-output', prediction)\n",
    "\n",
    "# Define loss and optimizer\n",
    "loss_op = tf.reduce_mean(tf.nn.softmax_cross_entropy_with_logits(\n",
    "    logits=logits, labels=y_))\n",
    "optimizer = tf.train.AdamOptimizer(learning_rate=learning_rate)\n",
    "train_op = optimizer.minimize(loss_op)\n",
    "\n",
    "\n",
    "# Evaluate model\n",
    "correct_pred = tf.equal(tf.argmax(prediction, 1), tf.argmax(y_, 1))\n",
    "accuracy = tf.reduce_mean(tf.cast(correct_pred, tf.float32))\n",
    "\n",
    "# Initialize the variables (i.e. assign their default value)\n",
    "init = tf.global_variables_initializer()"
   ]
  },
  {
   "cell_type": "code",
   "execution_count": 10,
   "metadata": {},
   "outputs": [],
   "source": [
    "sess=tf.Session()\n",
    "sess.run(init)"
   ]
  },
  {
   "cell_type": "code",
   "execution_count": 11,
   "metadata": {},
   "outputs": [
    {
     "name": "stdout",
     "output_type": "stream",
     "text": [
      "WARNING:tensorflow:From <ipython-input-11-6e858fc4b2aa>:4: start_queue_runners (from tensorflow.python.training.queue_runner_impl) is deprecated and will be removed in a future version.\n",
      "Instructions for updating:\n",
      "To construct input pipelines, use the `tf.data` module.\n",
      "epoch: 1\n",
      "Epoch 1, Minibatch Loss= 39933656.0000, Training Accuracy= 0.300\n",
      "epoch: 2\n",
      "Epoch 2, Minibatch Loss= 23757636.0000, Training Accuracy= 0.400\n",
      "epoch: 3\n",
      "Epoch 3, Minibatch Loss= 7058092.0000, Training Accuracy= 0.400\n",
      "epoch: 4\n",
      "Epoch 4, Minibatch Loss= 1455027.2500, Training Accuracy= 0.800\n",
      "Optimization Finished!\n"
     ]
    }
   ],
   "source": [
    "# Start training\n",
    "saver=tf.train.Saver(max_to_keep=1)\n",
    "coord = tf.train.Coordinator()\n",
    "threads = tf.train.start_queue_runners(sess=sess, coord=coord)  \n",
    "counter=0\n",
    "# Run the initializer\n",
    "for epoch in range(1,5):\n",
    "    print(\"epoch:\",epoch)      \n",
    "    with tf.device('/gpu:0'):\n",
    "        for batch in range(1,115): #1144 pics\n",
    "            batch_x, batch_y = sess.run([img_batch, label_batch])             \n",
    "            batch_y=sess.run(one_hot_labels, feed_dict={Y: batch_y})            \n",
    "            # Run optimization op (backprop)                \n",
    "            sess.run(train_op, feed_dict={X: batch_x, y_: batch_y, keep_prob: dropout})\n",
    "    #if epoch % display_step == 0 or epoch == 1:        \n",
    "    # Calculate batch loss and accuracy\n",
    "        loss, acc = sess.run([loss_op, accuracy], feed_dict={X: batch_x,\n",
    "                                                                        y_: batch_y,\n",
    "                                                                     keep_prob: 1.0})\n",
    "        print(\"Epoch \" + str(epoch) + \", Minibatch Loss= \" + \\\n",
    "                    \"{:.4f}\".format(loss) + \", Training Accuracy= \" + \\\n",
    "                    \"{:.3f}\".format(acc))\n",
    "        #saver.save(sess, 'my-model', global_step=1) \n",
    "print(\"Optimization Finished!\")\n",
    "coord.request_stop()\n",
    "coord.join(threads)"
   ]
  },
  {
   "cell_type": "code",
   "execution_count": 12,
   "metadata": {},
   "outputs": [
    {
     "name": "stdout",
     "output_type": "stream",
     "text": [
      "[4] 0\n",
      "[1] 0\n",
      "[5] 0\n",
      "[0] 0\n",
      "[1] 0\n",
      "[0] 0\n",
      "[2] 0\n",
      "[0] 0\n",
      "[1] 0\n",
      "[0] 0\n",
      "[1] 1\n",
      "[1] 1\n",
      "[1] 1\n",
      "[0] 1\n",
      "[2] 1\n",
      "[1] 1\n",
      "[2] 1\n",
      "[2] 1\n",
      "[1] 1\n",
      "[1] 2\n",
      "[2] 2\n",
      "[0] 2\n",
      "[1] 2\n",
      "[0] 2\n",
      "[0] 2\n",
      "[1] 2\n",
      "[2] 2\n",
      "[2] 3\n",
      "[4] 3\n",
      "[1] 3\n",
      "[3] 3\n",
      "[1] 3\n",
      "[2] 3\n",
      "[0] 3\n",
      "[4] 3\n",
      "[2] 3\n",
      "[0] 3\n",
      "[0] 4\n",
      "[5] 4\n",
      "[0] 4\n",
      "[1] 4\n",
      "[0] 4\n",
      "[0] 4\n",
      "[4] 4\n",
      "[0] 4\n",
      "[4] 4\n",
      "[5] 5\n",
      "[0] 5\n",
      "[0] 5\n",
      "[2] 5\n",
      "[2] 5\n",
      "[1] 5\n",
      "[5] 5\n",
      "[5] 5\n",
      "0.3148148148148148\n"
     ]
    }
   ],
   "source": [
    "\n",
    "counter=0\n",
    "right=0\n",
    "for label in os.listdir (r'.\\test'):\n",
    "\n",
    "\n",
    "    test_dir= os.path.join(r'.\\test', label)\n",
    "\n",
    "    for pic in os.listdir(test_dir):\n",
    "        img_path = os.path.join(test_dir, pic)\n",
    "        img = Image.open(img_path)\n",
    "        img = img.resize((224, 224))\n",
    "        img = tf.reshape(img, [1, 224, 224, 3])\n",
    "        img1 = tf.reshape(img, [1, 224, 224, 3])\n",
    "        img = tf.cast(img, tf.float32) / 255.0\n",
    "        b_image, b_image_raw = sess.run([img, img1])\n",
    "        haha=conv_net(b_image, weights, biases, 1)\n",
    "        haha_sm=tf.nn.softmax(haha)\n",
    "        print(sess.run(tf.argmax(haha_sm, 1)),int(label))\n",
    "        if sess.run(tf.argmax(haha_sm, 1))== int(label):\n",
    "            right +=1\n",
    "\n",
    "        counter +=1\n",
    "acc=right/counter\n",
    "print(acc)\n",
    "\n",
    "\n",
    "\n",
    "\n",
    "\n"
   ]
  }
 ],
 "metadata": {
  "kernelspec": {
   "display_name": "Python 3",
   "language": "python",
   "name": "python3"
  },
  "language_info": {
   "codemirror_mode": {
    "name": "ipython",
    "version": 3
   },
   "file_extension": ".py",
   "mimetype": "text/x-python",
   "name": "python",
   "nbconvert_exporter": "python",
   "pygments_lexer": "ipython3",
   "version": "3.7.3"
  }
 },
 "nbformat": 4,
 "nbformat_minor": 2
}
